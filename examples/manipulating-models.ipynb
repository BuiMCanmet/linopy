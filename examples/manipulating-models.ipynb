{
 "cells": [
  {
   "cell_type": "markdown",
   "id": "37a85c22",
   "metadata": {},
   "source": [
    "## Manipulating Models\n",
    "\n",
    "This notebook is still empty and on the todo list."
   ]
  },
  {
   "cell_type": "code",
   "execution_count": null,
   "id": "16a41836",
   "metadata": {},
   "outputs": [],
   "source": []
  }
 ],
 "metadata": {
  "@webio": {
   "lastCommId": null,
   "lastKernelId": null
  },
  "kernelspec": {
   "display_name": "Python 3",
   "language": "python",
   "name": "python3"
  },
  "language_info": {
   "codemirror_mode": {
    "name": "ipython",
    "version": 3
   },
   "file_extension": ".py",
   "mimetype": "text/x-python",
   "name": "python",
   "nbconvert_exporter": "python",
   "pygments_lexer": "ipython3",
   "version": "3.10.5"
  }
 },
 "nbformat": 4,
 "nbformat_minor": 5
}
