{
 "cells": [
  {
   "cell_type": "markdown",
   "id": "4db583af",
   "metadata": {},
   "source": [
    "# Solve a Basic Model\n",
    "\n",
    "In this example, we explain the basic functions of the linopy Model class. First, we are setting up a very simple linear optimization model, given by "
   ]
  },
  {
   "cell_type": "markdown",
   "id": "together-ocean",
   "metadata": {},
   "source": [
    "Minimize:\n",
    "$$ x + 2y $$\n",
    "      \n",
    "subject to:\n",
    "\n",
    "$$ x \\ge 0 $$\n",
    "$$y \\ge 0 $$\n",
    "$$3x + 7y \\ge 10 $$\n",
    "$$5x + 2y \\ge 3 $$"
   ]
  },
  {
   "cell_type": "code",
   "execution_count": null,
   "id": "dramatic-cannon",
   "metadata": {},
   "outputs": [],
   "source": [
    "from linopy import Model"
   ]
  },
  {
   "cell_type": "code",
   "execution_count": null,
   "id": "technical-conducting",
   "metadata": {},
   "outputs": [],
   "source": [
    "m = Model()"
   ]
  },
  {
   "cell_type": "markdown",
   "id": "rolled-delicious",
   "metadata": {},
   "source": [
    "The Model class serves at a container for all the relevant data. \n",
    "\n",
    "### Adding variables\n",
    "\n",
    "Let's add the two variables. Note that a variable can always be assigned with a lower and an upper bound. In this case, both `x` and `y` have a lower bound of zero (coming from the first two constraints). Note, the default for lower and upper bounds are minus and plus infinity."
   ]
  },
  {
   "cell_type": "code",
   "execution_count": null,
   "id": "protecting-power",
   "metadata": {},
   "outputs": [],
   "source": [
    "x = m.add_variables(lower=0, name='x')\n",
    "y = m.add_variables(lower=0, name='y');"
   ]
  },
  {
   "cell_type": "markdown",
   "id": "featured-maria",
   "metadata": {},
   "source": [
    "`x` and `y` are linopy variables. Each of them consist of an array with the variable references in the model, that is the names of variables that will finally be used when solving the model. "
   ]
  },
  {
   "cell_type": "code",
   "execution_count": null,
   "id": "virtual-anxiety",
   "metadata": {},
   "outputs": [],
   "source": [
    "x"
   ]
  },
  {
   "cell_type": "markdown",
   "id": "sonic-rebate",
   "metadata": {},
   "source": [
    "Since both `x` and `y` are scalar variables, so their arrays also contain just one variable reference. The variable `x` points to the optimisation variable 1 and the variable `y` points to the optimisation variable 2. Later we will see the benefit of this behaviour.  \n",
    "\n",
    "### Adding Constraints\n",
    "\n",
    "Constraints consist of the left hand side (lhs) and the right hand side (rhs). The first constraint that we want to write down is \n",
    "$3x + 7y >= 10$, which we can write just exactly in this way"
   ]
  },
  {
   "cell_type": "code",
   "execution_count": null,
   "id": "fbb46cad",
   "metadata": {},
   "outputs": [],
   "source": [
    "3*x + 7*y >= 10"
   ]
  },
  {
   "cell_type": "markdown",
   "id": "f4666bee",
   "metadata": {},
   "source": [
    "Note, we can also mix the constant and the variable expression, like this"
   ]
  },
  {
   "cell_type": "code",
   "execution_count": null,
   "id": "60f41b76",
   "metadata": {},
   "outputs": [],
   "source": [
    "3*x + 7*y - 10 >= 0"
   ]
  },
  {
   "cell_type": "markdown",
   "id": "02abd938",
   "metadata": {},
   "source": [
    "... and linopy will automatically take over the separation of variables expression on the lhs, and constant values on the rhs.\n",
    "\n",
    "The constraint is currently not assigned to the model. We assign it by calling the function `m.add_constraints`."
   ]
  },
  {
   "cell_type": "code",
   "execution_count": null,
   "id": "hollywood-production",
   "metadata": {},
   "outputs": [],
   "source": [
    "m.add_constraints(3*x + 7*y >= 10)\n",
    "m.add_constraints(5*x + 2*y >= 3);"
   ]
  },
  {
   "cell_type": "markdown",
   "id": "global-maple",
   "metadata": {},
   "source": [
    "## Adding the Objective \n",
    "\n",
    "We do the same for defining the objective while the objective function only consists of a linear expression."
   ]
  },
  {
   "cell_type": "code",
   "execution_count": null,
   "id": "overall-exhibition",
   "metadata": {},
   "outputs": [],
   "source": [
    "m.add_objective(x + 2*y)"
   ]
  },
  {
   "cell_type": "code",
   "execution_count": null,
   "id": "pressing-copying",
   "metadata": {},
   "outputs": [],
   "source": [
    "m.solve()"
   ]
  },
  {
   "cell_type": "markdown",
   "id": "preceding-limit",
   "metadata": {},
   "source": [
    "The solution of the linear problem assigned to the variables under `solution` in form of a `xarray.Dataset`. "
   ]
  },
  {
   "cell_type": "code",
   "execution_count": null,
   "id": "electric-duration",
   "metadata": {},
   "outputs": [],
   "source": [
    "x.solution"
   ]
  },
  {
   "cell_type": "code",
   "execution_count": null,
   "id": "e6d31751",
   "metadata": {},
   "outputs": [],
   "source": [
    "y.solution"
   ]
  },
  {
   "cell_type": "markdown",
   "id": "e296f641",
   "metadata": {},
   "source": [
    "Well done! You solved your first linopy model!"
   ]
  }
 ],
 "metadata": {
  "@webio": {
   "lastCommId": null,
   "lastKernelId": null
  },
  "kernelspec": {
   "display_name": "Python 3",
   "language": "python",
   "name": "python3"
  },
  "language_info": {
   "codemirror_mode": {
    "name": "ipython",
    "version": 3
   },
   "file_extension": ".py",
   "mimetype": "text/x-python",
   "name": "python",
   "nbconvert_exporter": "python",
   "pygments_lexer": "ipython3",
   "version": "3.11.3"
  }
 },
 "nbformat": 4,
 "nbformat_minor": 5
}
