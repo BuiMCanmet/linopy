{
 "cells": [
  {
   "cell_type": "markdown",
   "id": "together-ocean",
   "metadata": {},
   "source": [
    "# Create a basic optimization model\n",
    "\n",
    "In this example, we explain the basic functions of the linopy Model class. First, we are setting up a very simple linear optimization model, given my \n",
    "\n",
    "     Minimize:\n",
    "$$ x + 2y $$\n",
    "      \n",
    "     subject to:\n",
    "$$ x \\ge 0 $$\n",
    "$$y \\ge 0 $$\n",
    "$$3x + 7y \\ge 10 $$\n",
    "$$5x + 2y \\ge 3 $$\n"
   ]
  },
  {
   "cell_type": "code",
   "execution_count": 1,
   "id": "dramatic-cannon",
   "metadata": {},
   "outputs": [],
   "source": [
    "from linopy import Model\n",
    "import xarray as xr\n",
    "xr.set_options(display_style='text');"
   ]
  },
  {
   "cell_type": "code",
   "execution_count": 2,
   "id": "technical-conducting",
   "metadata": {},
   "outputs": [],
   "source": [
    "m = Model()"
   ]
  },
  {
   "cell_type": "markdown",
   "id": "rolled-delicious",
   "metadata": {},
   "source": [
    "The model `m` serves at a container for all relevant data. \n",
    "\n",
    "Let's add the two variables. Note that a variable can always be assigned with a lower and an upper bound. In this case, both `x` and `y` have a lower bound of zero. Note, the default for lower and upper bounds are minus and plus infinity."
   ]
  },
  {
   "cell_type": "code",
   "execution_count": 3,
   "id": "protecting-power",
   "metadata": {},
   "outputs": [],
   "source": [
    "x = m.add_variables('x', lower=0)\n",
    "y = m.add_variables('y', lower=0);"
   ]
  },
  {
   "cell_type": "markdown",
   "id": "featured-maria",
   "metadata": {},
   "source": [
    "`x` and `y` are linopy variables. They consist of an array with the variable references in the model, that is the names of variables that will finally be used when solving the model. "
   ]
  },
  {
   "cell_type": "code",
   "execution_count": 4,
   "id": "virtual-anxiety",
   "metadata": {},
   "outputs": [
    {
     "data": {
      "text/plain": [
       "Variable container:\n",
       "-------------------\n",
       "\n",
       "Variables:\n",
       "array(1)\n",
       "Attributes:\n",
       "    name:     x"
      ]
     },
     "execution_count": 4,
     "metadata": {},
     "output_type": "execute_result"
    }
   ],
   "source": [
    "x"
   ]
  },
  {
   "cell_type": "markdown",
   "id": "sonic-rebate",
   "metadata": {},
   "source": [
    "Since both `x` and `y` are scalar variables their arrays also contain just one variable reference. \n",
    "\n",
    "Constraints consist of the left hand side (lhs) and the righ hand side (rhs). The lhs contain must contain all the variables going into the constraint, while the rhs are just a constant. The first lhs of our two constraints is \n",
    "$3x + 7y$, which we can write just exaclty in this way"
   ]
  },
  {
   "cell_type": "code",
   "execution_count": 5,
   "id": "ongoing-desktop",
   "metadata": {},
   "outputs": [
    {
     "data": {
      "text/html": [
       "<pre>Linear Expression with 2 term(s):\n",
       "----------------------------------\n",
       "\n",
       "Dimensions:  (term_: 2)\n",
       "Coordinates:\n",
       "  * term_    (term_) object &#x27;x&#x27; &#x27;y&#x27;\n",
       "Data:\n",
       "    coeffs   (term_) int64 3 7\n",
       "    vars     (term_) int64 1 2</pre>"
      ],
      "text/plain": [
       "Linear Expression with 2 term(s):\n",
       "----------------------------------\n",
       "\n",
       "Dimensions:  (term_: 2)\n",
       "Coordinates:\n",
       "  * term_    (term_) object 'x' 'y'\n",
       "Data:\n",
       "    coeffs   (term_) int64 3 7\n",
       "    vars     (term_) int64 1 2"
      ]
     },
     "execution_count": 5,
     "metadata": {},
     "output_type": "execute_result"
    }
   ],
   "source": [
    "3*x + 7*y"
   ]
  },
  {
   "cell_type": "markdown",
   "id": "ambient-collect",
   "metadata": {},
   "source": [
    "When assigning to the model we call the function `m.add_constraints`."
   ]
  },
  {
   "cell_type": "code",
   "execution_count": 6,
   "id": "hollywood-production",
   "metadata": {},
   "outputs": [],
   "source": [
    "m.add_constraints('Constraint1', 3*x + 7*y, '>=', 10)\n",
    "m.add_constraints('Constraint2', 5*x + 2*y, '>=', 3);"
   ]
  },
  {
   "cell_type": "markdown",
   "id": "global-maple",
   "metadata": {},
   "source": [
    "We do the same for defining the objective."
   ]
  },
  {
   "cell_type": "code",
   "execution_count": 7,
   "id": "configured-dragon",
   "metadata": {},
   "outputs": [
    {
     "data": {
      "text/html": [
       "<pre>Linear Expression with 2 term(s):\n",
       "----------------------------------\n",
       "\n",
       "Dimensions:  (term_: 2)\n",
       "Coordinates:\n",
       "  * term_    (term_) object &#x27;x&#x27; &#x27;y&#x27;\n",
       "Data:\n",
       "    coeffs   (term_) int64 1 2\n",
       "    vars     (term_) int64 1 2</pre>"
      ],
      "text/plain": [
       "Linear Expression with 2 term(s):\n",
       "----------------------------------\n",
       "\n",
       "Dimensions:  (term_: 2)\n",
       "Coordinates:\n",
       "  * term_    (term_) object 'x' 'y'\n",
       "Data:\n",
       "    coeffs   (term_) int64 1 2\n",
       "    vars     (term_) int64 1 2"
      ]
     },
     "execution_count": 7,
     "metadata": {},
     "output_type": "execute_result"
    }
   ],
   "source": [
    "m.add_objective(x + 2*y)"
   ]
  },
  {
   "cell_type": "code",
   "execution_count": 8,
   "id": "pressing-copying",
   "metadata": {},
   "outputs": [
    {
     "name": "stdout",
     "output_type": "stream",
     "text": [
      "Academic license - for non-commercial use only - expires 2021-04-18\n",
      "Using license file /opt/gurobi911/gurobi.lic\n",
      "Read LP format model from file /tmp/linopy-problem-ax6g4c4_.lp\n",
      "Reading time = 0.00 seconds\n",
      "obj: 2 rows, 2 columns, 4 nonzeros\n",
      "Gurobi Optimizer version 9.1.1 build v9.1.1rc0 (linux64)\n",
      "Thread count: 2 physical cores, 4 logical processors, using up to 4 threads\n",
      "Optimize a model with 2 rows, 2 columns and 4 nonzeros\n",
      "Model fingerprint: 0x4c5ee539\n",
      "Coefficient statistics:\n",
      "  Matrix range     [2e+00, 7e+00]\n",
      "  Objective range  [1e+00, 2e+00]\n",
      "  Bounds range     [0e+00, 0e+00]\n",
      "  RHS range        [3e+00, 1e+01]\n",
      "Presolve time: 0.01s\n",
      "Presolved: 2 rows, 2 columns, 4 nonzeros\n",
      "\n",
      "Iteration    Objective       Primal Inf.    Dual Inf.      Time\n",
      "       0    0.0000000e+00   1.625000e+00   0.000000e+00      0s\n",
      "       2    2.8620690e+00   0.000000e+00   0.000000e+00      0s\n",
      "\n",
      "Solved in 2 iterations and 0.01 seconds\n",
      "Optimal objective  2.862068966e+00\n"
     ]
    },
    {
     "data": {
      "text/plain": [
       "Linopy model\n",
       "============\n",
       "\n",
       "Variables:\n",
       "----------\n",
       "Dimensions:  ()\n",
       "Data:\n",
       "    x        int64 1\n",
       "    y        int64 2\n",
       "\n",
       "Constraints:\n",
       "------------\n",
       "Dimensions:      ()\n",
       "Data:\n",
       "    Constraint1  int64 1\n",
       "    Constraint2  int64 2\n",
       "\n",
       "Status:\n",
       "-------\n",
       "optimal"
      ]
     },
     "execution_count": 8,
     "metadata": {},
     "output_type": "execute_result"
    }
   ],
   "source": [
    "m.solve(solver_name='gurobi')"
   ]
  },
  {
   "cell_type": "markdown",
   "id": "preceding-limit",
   "metadata": {},
   "source": [
    "The solution of the linear problem is stored in `m.solution` in fom of a `xarray.Dataset`. In this case for a better inrospection you can use the conversion to pandas dataframes."
   ]
  },
  {
   "cell_type": "code",
   "execution_count": 9,
   "id": "electric-duration",
   "metadata": {},
   "outputs": [
    {
     "data": {
      "text/html": [
       "<pre>&lt;xarray.Dataset&gt;\n",
       "Dimensions:  ()\n",
       "Data variables:\n",
       "    x        float64 0.03448\n",
       "    y        float64 1.414</pre>"
      ],
      "text/plain": [
       "<xarray.Dataset>\n",
       "Dimensions:  ()\n",
       "Data variables:\n",
       "    x        float64 0.03448\n",
       "    y        float64 1.414"
      ]
     },
     "execution_count": 9,
     "metadata": {},
     "output_type": "execute_result"
    }
   ],
   "source": [
    "m.solution"
   ]
  },
  {
   "cell_type": "markdown",
   "id": "comparable-talent",
   "metadata": {},
   "source": [
    "## Expanding the dimensionality\n",
    "\n",
    "Now comes the interesting part. Suppose to variables `x` and `y` are a function of time `t` and you'd had a modified problem setup like \n",
    "\n",
    "Minimize:\n",
    "$$\\sum_t x_t + 2 y_t$$\n",
    "subject to:\n",
    "$$\n",
    "x_t \\ge 0 \\qquad \\forall t \\\\\n",
    "y_t \\ge 0 \\qquad \\forall t \\\\\n",
    "3x_t + 7y_t \\ge 10 t \\qquad \\forall t\\\\\n",
    "5x_t + 2y_t \\ge 3 t \\qquad \\forall t\n",
    "$$\n",
    "whereas `t` spans all the range from 0 to 10."
   ]
  },
  {
   "cell_type": "markdown",
   "id": "proprietary-receipt",
   "metadata": {},
   "source": [
    "First, we define a new model (we just overwrite the old `m`)."
   ]
  },
  {
   "cell_type": "code",
   "execution_count": 10,
   "id": "close-maximum",
   "metadata": {},
   "outputs": [],
   "source": [
    "m = Model()"
   ]
  },
  {
   "cell_type": "markdown",
   "id": "positive-appearance",
   "metadata": {},
   "source": [
    "We define the lower bound of 0 for `x` and `y` for all timesteps. Note since we are setting the lower bound to be an array, the variable automatically spans over all time-steps, that is `x` and `y` contain 10 optimization variables each.  "
   ]
  },
  {
   "cell_type": "code",
   "execution_count": 11,
   "id": "included-religious",
   "metadata": {},
   "outputs": [],
   "source": [
    "import pandas as pd\n",
    "time = pd.Index(range(10), name='time')\n",
    "lower = pd.Series(0, index=time)\n",
    "x = m.add_variables(name='x', lower=lower)\n",
    "y = m.add_variables(name='y', lower=lower)"
   ]
  },
  {
   "cell_type": "markdown",
   "id": "terminal-ethernet",
   "metadata": {},
   "source": [
    "We again write the contraints out using the syntax from above, while multiplying the rhs with `t`."
   ]
  },
  {
   "cell_type": "code",
   "execution_count": 12,
   "id": "comprehensive-blend",
   "metadata": {},
   "outputs": [
    {
     "data": {
      "text/plain": [
       "Linopy model\n",
       "============\n",
       "\n",
       "Variables:\n",
       "----------\n",
       "Dimensions:  (time: 10)\n",
       "Coordinates:\n",
       "  * time     (time) int64 0 1 2 3 4 5 6 7 8 9\n",
       "Data:\n",
       "    x        (time) int64 1 2 3 4 5 6 7 8 9 10\n",
       "    y        (time) int64 11 12 13 14 15 16 17 18 19 20\n",
       "\n",
       "Constraints:\n",
       "------------\n",
       "Dimensions:      (time: 10)\n",
       "Coordinates:\n",
       "  * time         (time) int64 0 1 2 3 4 5 6 7 8 9\n",
       "Data:\n",
       "    Constraint1  (time) int64 1 2 3 4 5 6 7 8 9 10\n",
       "    Constraint2  (time) int64 11 12 13 14 15 16 17 18 19 20\n",
       "\n",
       "Status:\n",
       "-------\n",
       "initialized"
      ]
     },
     "execution_count": 12,
     "metadata": {},
     "output_type": "execute_result"
    }
   ],
   "source": [
    "factor = pd.Series(time, index=time)\n",
    "m.add_constraints('Constraint1', 3*x + 7*y, '>=', 10*factor)\n",
    "m.add_constraints('Constraint2', 5*x + 2*y, '>=', 3*factor)\n",
    "m"
   ]
  },
  {
   "cell_type": "markdown",
   "id": "induced-professor",
   "metadata": {},
   "source": [
    "When we add the objective, we use the `sum` function of `linopy.LinearExpression`. This stacks the `term_` dimension, such that all terms of the `time` dimension are rewritten into one big expression. "
   ]
  },
  {
   "cell_type": "code",
   "execution_count": 13,
   "id": "alternate-story",
   "metadata": {},
   "outputs": [
    {
     "data": {
      "text/html": [
       "<pre>Linear Expression with 20 term(s):\n",
       "----------------------------------\n",
       "\n",
       "Dimensions:  (term_: 20)\n",
       "Coordinates:\n",
       "  * term_    (term_) int64 0 1 2 3 4 5 6 7 8 9 10 11 12 13 14 15 16 17 18 19\n",
       "Data:\n",
       "    coeffs   (term_) int64 1 2 1 2 1 2 1 2 1 2 1 2 1 2 1 2 1 2 1 2\n",
       "    vars     (term_) int64 1 11 2 12 3 13 4 14 5 15 6 16 7 17 8 18 9 19 10 20</pre>"
      ],
      "text/plain": [
       "Linear Expression with 20 term(s):\n",
       "----------------------------------\n",
       "\n",
       "Dimensions:  (term_: 20)\n",
       "Coordinates:\n",
       "  * term_    (term_) int64 0 1 2 3 4 5 6 7 8 9 10 11 12 13 14 15 16 17 18 19\n",
       "Data:\n",
       "    coeffs   (term_) int64 1 2 1 2 1 2 1 2 1 2 1 2 1 2 1 2 1 2 1 2\n",
       "    vars     (term_) int64 1 11 2 12 3 13 4 14 5 15 6 16 7 17 8 18 9 19 10 20"
      ]
     },
     "execution_count": 13,
     "metadata": {},
     "output_type": "execute_result"
    }
   ],
   "source": [
    "obj = (x + 2*y).sum()\n",
    "m.add_objective(obj)"
   ]
  },
  {
   "cell_type": "code",
   "execution_count": 14,
   "id": "outer-presence",
   "metadata": {},
   "outputs": [
    {
     "name": "stdout",
     "output_type": "stream",
     "text": [
      "Read LP format model from file /tmp/linopy-problem-48ogfeu7.lp\n",
      "Reading time = 0.00 seconds\n",
      "obj: 20 rows, 20 columns, 40 nonzeros\n",
      "Gurobi Optimizer version 9.1.1 build v9.1.1rc0 (linux64)\n",
      "Thread count: 2 physical cores, 4 logical processors, using up to 4 threads\n",
      "Optimize a model with 20 rows, 20 columns and 40 nonzeros\n",
      "Model fingerprint: 0x89bb3e20\n",
      "Coefficient statistics:\n",
      "  Matrix range     [2e+00, 7e+00]\n",
      "  Objective range  [1e+00, 2e+00]\n",
      "  Bounds range     [0e+00, 0e+00]\n",
      "  RHS range        [3e+00, 9e+01]\n",
      "Presolve removed 2 rows and 2 columns\n",
      "Presolve time: 0.01s\n",
      "Presolved: 18 rows, 18 columns, 36 nonzeros\n",
      "\n",
      "Iteration    Objective       Primal Inf.    Dual Inf.      Time\n",
      "       0    0.0000000e+00   7.312500e+01   0.000000e+00      0s\n",
      "      18    1.2879310e+02   0.000000e+00   0.000000e+00      0s\n",
      "\n",
      "Solved in 18 iterations and 0.01 seconds\n",
      "Optimal objective  1.287931034e+02\n"
     ]
    }
   ],
   "source": [
    "m.solve();"
   ]
  },
  {
   "cell_type": "code",
   "execution_count": 15,
   "id": "monthly-census",
   "metadata": {},
   "outputs": [
    {
     "data": {
      "text/plain": [
       "<AxesSubplot:xlabel='time', ylabel='Optimal Value'>"
      ]
     },
     "execution_count": 15,
     "metadata": {},
     "output_type": "execute_result"
    },
    {
     "data": {
      "image/png": "[encoded data removed]",
      "text/plain": [
       "<Figure size 432x288 with 1 Axes>"
      ]
     },
     "metadata": {
      "needs_background": "light"
     },
     "output_type": "display_data"
    }
   ],
   "source": [
    "m.solution.to_dataframe().plot(grid=True, ylabel='Optimal Value')"
   ]
  },
  {
   "cell_type": "markdown",
   "id": "owned-europe",
   "metadata": {},
   "source": [
    "You can easily add dimensions in this way. Since the underlying code is highly relying on `xarray` broadcasting on new dimesions is automatically supported, so even the `rhs` can introduce new dimensions. Just be carefull that all variable dimensions have the correct dimension name. "
   ]
  }
 ],
 "metadata": {
  "@webio": {
   "lastCommId": null,
   "lastKernelId": null
  },
  "kernelspec": {
   "display_name": "Python 3",
   "language": "python",
   "name": "python3"
  },
  "language_info": {
   "codemirror_mode": {
    "name": "ipython",
    "version": 3
   },
   "file_extension": ".py",
   "mimetype": "text/x-python",
   "name": "python",
   "nbconvert_exporter": "python",
   "pygments_lexer": "ipython3",
   "version": "3.8.5"
  }
 },
 "nbformat": 4,
 "nbformat_minor": 5
}
